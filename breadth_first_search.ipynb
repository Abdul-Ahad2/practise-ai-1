{
  "nbformat": 4,
  "nbformat_minor": 0,
  "metadata": {
    "colab": {
      "provenance": [],
      "authorship_tag": "ABX9TyN6XsG2kxawZGcWjDxnUHNz",
      "include_colab_link": true
    },
    "kernelspec": {
      "name": "python3",
      "display_name": "Python 3"
    },
    "language_info": {
      "name": "python"
    }
  },
  "cells": [
    {
      "cell_type": "markdown",
      "metadata": {
        "id": "view-in-github",
        "colab_type": "text"
      },
      "source": [
        "<a href=\"https://colab.research.google.com/github/Abdul-Ahad2/practise-ai-1/blob/main/breadth_first_search.ipynb\" target=\"_parent\"><img src=\"https://colab.research.google.com/assets/colab-badge.svg\" alt=\"Open In Colab\"/></a>"
      ]
    },
    {
      "cell_type": "markdown",
      "source": [
        "\n",
        "# Breadth-First Search"
      ],
      "metadata": {
        "id": "4bCpNqwGiyXc"
      }
    },
    {
      "cell_type": "code",
      "source": [
        "from collections import deque\n",
        "\n",
        "graph = {\n",
        "    'Islamabad': ['Rawalpindi', 'Lahore', 'Peshawar'],\n",
        "    'Rawalpindi': ['Islamabad', 'Peshawar', 'Quetta'],\n",
        "    'Peshawar': ['Islamabad', 'Rawalpindi', 'Quetta'],\n",
        "    'Lahore': ['Islamabad', 'Multan', 'Quetta'],\n",
        "    'Multan': ['Lahore', 'Karachi', 'Quetta'],\n",
        "    'Quetta': ['Rawalpindi', 'Peshawar', 'Multan', 'Karachi'],\n",
        "    'Karachi': ['Multan', 'Quetta']\n",
        "}\n",
        "\n",
        "def bfs_shortest_path(graph, start, goal):\n",
        "  queue = deque([[start]])\n",
        "  visited = set()\n",
        "\n",
        "  while queue:\n",
        "\n",
        "    path = queue.popleft()\n",
        "\n",
        "    city = path[-1]\n",
        "\n",
        "    if city == goal:\n",
        "      return path\n",
        "\n",
        "    if city not in visited:\n",
        "      visited.add(city)\n",
        "\n",
        "      for neighbor in graph[city]:\n",
        "        new_path = list(path)\n",
        "        new_path.append(neighbor)\n",
        "        queue.append(new_path)\n",
        "\n",
        "  return None\n",
        "\n",
        "shortest_path = bfs_shortest_path(graph, 'Islamabad', 'Karachi')\n",
        "shortest_path"
      ],
      "metadata": {
        "colab": {
          "base_uri": "https://localhost:8080/"
        },
        "id": "w9CHlruDjDrt",
        "outputId": "a1530f9d-fcce-4715-b5ef-4e81c8c1f494"
      },
      "execution_count": 18,
      "outputs": [
        {
          "output_type": "execute_result",
          "data": {
            "text/plain": [
              "['Islamabad', 'Rawalpindi', 'Quetta', 'Karachi']"
            ]
          },
          "metadata": {},
          "execution_count": 18
        }
      ]
    },
    {
      "cell_type": "markdown",
      "source": [],
      "metadata": {
        "id": "jac8vpE5sp6l"
      }
    }
  ]
}